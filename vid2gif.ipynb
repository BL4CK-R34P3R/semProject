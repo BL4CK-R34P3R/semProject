{
 "cells": [
  {
   "cell_type": "code",
   "execution_count": 13,
   "id": "bab3a9d2-2f7c-4f50-8de6-2722fa30bf3c",
   "metadata": {},
   "outputs": [],
   "source": [
    "import ffmpy"
   ]
  },
  {
   "cell_type": "code",
   "execution_count": 17,
   "id": "fee02946-ec9b-4345-975a-7b81ffd278e1",
   "metadata": {},
   "outputs": [],
   "source": [
    "ff = ffmpy.FFmpeg(\n",
    "    inputs = {\"./0101-0250.mkv\": None},\n",
    "    outputs = {\"./2.gif\": None})"
   ]
  },
  {
   "cell_type": "code",
   "execution_count": 18,
   "id": "218f3f62-440d-4d86-8633-a5841c31378a",
   "metadata": {},
   "outputs": [
    {
     "name": "stderr",
     "output_type": "stream",
     "text": [
      "ffmpeg version n5.1.2 Copyright (c) 2000-2022 the FFmpeg developers\n",
      "  built with gcc 12.2.0 (GCC)\n",
      "  configuration: --prefix=/usr --disable-debug --disable-static --disable-stripping --enable-amf --enable-avisynth --enable-cuda-llvm --enable-lto --enable-fontconfig --enable-gmp --enable-gnutls --enable-gpl --enable-ladspa --enable-libaom --enable-libass --enable-libbluray --enable-libbs2b --enable-libdav1d --enable-libdrm --enable-libfreetype --enable-libfribidi --enable-libgsm --enable-libiec61883 --enable-libjack --enable-libmfx --enable-libmodplug --enable-libmp3lame --enable-libopencore_amrnb --enable-libopencore_amrwb --enable-libopenjpeg --enable-libopus --enable-libpulse --enable-librav1e --enable-librsvg --enable-libsoxr --enable-libspeex --enable-libsrt --enable-libssh --enable-libsvtav1 --enable-libtheora --enable-libv4l2 --enable-libvidstab --enable-libvmaf --enable-libvorbis --enable-libvpx --enable-libwebp --enable-libx264 --enable-libx265 --enable-libxcb --enable-libxml2 --enable-libxvid --enable-libzimg --enable-nvdec --enable-nvenc --enable-opencl --enable-opengl --enable-shared --enable-version3 --enable-vulkan\n",
      "  libavutil      57. 28.100 / 57. 28.100\n",
      "  libavcodec     59. 37.100 / 59. 37.100\n",
      "  libavformat    59. 27.100 / 59. 27.100\n",
      "  libavdevice    59.  7.100 / 59.  7.100\n",
      "  libavfilter     8. 44.100 /  8. 44.100\n",
      "  libswscale      6.  7.100 /  6.  7.100\n",
      "  libswresample   4.  7.100 /  4.  7.100\n",
      "  libpostproc    56.  6.100 / 56.  6.100\n",
      "Input #0, matroska,webm, from './0101-0250.mkv':\n",
      "  Metadata:\n",
      "    SCENE           : Scene\n",
      "    FILE            : <untitled>\n",
      "    DATE            : 2022/11/23 17:21:41\n",
      "    ENCODER         : Lavf59.27.100\n",
      "  Duration: 00:00:10.00, start: 0.000000, bitrate: 1626 kb/s\n",
      "  Stream #0:0: Video: h264 (High), yuv420p(progressive), 1920x1080 [SAR 1:1 DAR 16:9], 15 fps, 15 tbr, 1k tbn\n",
      "    Metadata:\n",
      "      DURATION        : 00:00:10.000000000\n",
      "File './2.gif' already exists. Overwrite? [y/N] Not overwriting - exiting\n"
     ]
    },
    {
     "ename": "FFRuntimeError",
     "evalue": "`ffmpeg -i ./0101-0250.mkv ./2.gif` exited with status 1\n\nSTDOUT:\n\n\nSTDERR:\n",
     "output_type": "error",
     "traceback": [
      "\u001b[0;31m---------------------------------------------------------------------------\u001b[0m",
      "\u001b[0;31mFFRuntimeError\u001b[0m                            Traceback (most recent call last)",
      "Cell \u001b[0;32mIn [18], line 1\u001b[0m\n\u001b[0;32m----> 1\u001b[0m \u001b[43mff\u001b[49m\u001b[38;5;241;43m.\u001b[39;49m\u001b[43mrun\u001b[49m\u001b[43m(\u001b[49m\u001b[43m)\u001b[49m\n",
      "File \u001b[0;32m~/.local/lib/python3.10/site-packages/ffmpy.py:106\u001b[0m, in \u001b[0;36mFFmpeg.run\u001b[0;34m(self, input_data, stdout, stderr, env)\u001b[0m\n\u001b[1;32m    104\u001b[0m out \u001b[38;5;241m=\u001b[39m \u001b[38;5;28mself\u001b[39m\u001b[38;5;241m.\u001b[39mprocess\u001b[38;5;241m.\u001b[39mcommunicate(\u001b[38;5;28minput\u001b[39m\u001b[38;5;241m=\u001b[39minput_data)\n\u001b[1;32m    105\u001b[0m \u001b[38;5;28;01mif\u001b[39;00m \u001b[38;5;28mself\u001b[39m\u001b[38;5;241m.\u001b[39mprocess\u001b[38;5;241m.\u001b[39mreturncode \u001b[38;5;241m!=\u001b[39m \u001b[38;5;241m0\u001b[39m:\n\u001b[0;32m--> 106\u001b[0m     \u001b[38;5;28;01mraise\u001b[39;00m FFRuntimeError(\u001b[38;5;28mself\u001b[39m\u001b[38;5;241m.\u001b[39mcmd, \u001b[38;5;28mself\u001b[39m\u001b[38;5;241m.\u001b[39mprocess\u001b[38;5;241m.\u001b[39mreturncode, out[\u001b[38;5;241m0\u001b[39m], out[\u001b[38;5;241m1\u001b[39m])\n\u001b[1;32m    108\u001b[0m \u001b[38;5;28;01mreturn\u001b[39;00m out\n",
      "\u001b[0;31mFFRuntimeError\u001b[0m: `ffmpeg -i ./0101-0250.mkv ./2.gif` exited with status 1\n\nSTDOUT:\n\n\nSTDERR:\n"
     ]
    }
   ],
   "source": [
    "ff.run()"
   ]
  },
  {
   "cell_type": "code",
   "execution_count": 16,
   "id": "a5fe2fe4-449a-47c4-951b-2d15fd22cd48",
   "metadata": {},
   "outputs": [
    {
     "name": "stdout",
     "output_type": "stream",
     "text": [
      " \u001b[0m\u001b[01;35m1.gif\u001b[0m  \u001b[01;35m'Screencast 2022-11-23 16_03_55.mp4'\u001b[0m   Untitled.ipynb\n",
      " \u001b[01;35m2.gif\u001b[0m  \u001b[01;35m'Screencast 2022-11-23 16_06_22.mp4'\u001b[0m\n"
     ]
    }
   ],
   "source": [
    "ls"
   ]
  },
  {
   "cell_type": "code",
   "execution_count": null,
   "id": "59fc9d54-2bdb-422c-98d9-d5a4999d0ea0",
   "metadata": {},
   "outputs": [],
   "source": []
  }
 ],
 "metadata": {
  "kernelspec": {
   "display_name": "Python 3 (ipykernel)",
   "language": "python",
   "name": "python3"
  },
  "language_info": {
   "codemirror_mode": {
    "name": "ipython",
    "version": 3
   },
   "file_extension": ".py",
   "mimetype": "text/x-python",
   "name": "python",
   "nbconvert_exporter": "python",
   "pygments_lexer": "ipython3",
   "version": "3.10.8"
  }
 },
 "nbformat": 4,
 "nbformat_minor": 5
}
